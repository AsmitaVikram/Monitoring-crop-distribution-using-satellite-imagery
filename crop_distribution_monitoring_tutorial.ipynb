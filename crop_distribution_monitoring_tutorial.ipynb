{
  "cells": [
    {
      "cell_type": "markdown",
      "metadata": {
        "id": "view-in-github",
        "colab_type": "text"
      },
      "source": [
        "<a href=\"https://colab.research.google.com/github/AsmitaVikram/Monitoring-crop-distribution-using-satellite-imagery/blob/main/crop_distribution_monitoring_tutorial.ipynb\" target=\"_parent\"><img src=\"https://colab.research.google.com/assets/colab-badge.svg\" alt=\"Open In Colab\"/></a>"
      ]
    },
    {
      "cell_type": "code",
      "execution_count": null,
      "metadata": {
        "colab": {
          "base_uri": "https://localhost:8080/"
        },
        "id": "SikMpgHlxnO3",
        "outputId": "2f0d01fa-737c-4d8f-92d9-3c21951e8c29"
      },
      "outputs": [
        {
          "output_type": "stream",
          "name": "stdout",
          "text": [
            "Collecting rasterio\n",
            "  Downloading rasterio-1.3.9-cp310-cp310-manylinux2014_x86_64.whl (20.6 MB)\n",
            "\u001b[2K     \u001b[90m━━━━━━━━━━━━━━━━━━━━━━━━━━━━━━━━━━━━━━━━\u001b[0m \u001b[32m20.6/20.6 MB\u001b[0m \u001b[31m70.2 MB/s\u001b[0m eta \u001b[36m0:00:00\u001b[0m\n",
            "\u001b[?25hRequirement already satisfied: scikit-image in /usr/local/lib/python3.10/dist-packages (0.19.3)\n",
            "Collecting affine (from rasterio)\n",
            "  Downloading affine-2.4.0-py3-none-any.whl (15 kB)\n",
            "Requirement already satisfied: attrs in /usr/local/lib/python3.10/dist-packages (from rasterio) (23.1.0)\n",
            "Requirement already satisfied: certifi in /usr/local/lib/python3.10/dist-packages (from rasterio) (2023.7.22)\n",
            "Requirement already satisfied: click>=4.0 in /usr/local/lib/python3.10/dist-packages (from rasterio) (8.1.7)\n",
            "Requirement already satisfied: cligj>=0.5 in /usr/local/lib/python3.10/dist-packages (from rasterio) (0.7.2)\n",
            "Requirement already satisfied: numpy in /usr/local/lib/python3.10/dist-packages (from rasterio) (1.23.5)\n",
            "Collecting snuggs>=1.4.1 (from rasterio)\n",
            "  Downloading snuggs-1.4.7-py3-none-any.whl (5.4 kB)\n",
            "Requirement already satisfied: click-plugins in /usr/local/lib/python3.10/dist-packages (from rasterio) (1.1.1)\n",
            "Requirement already satisfied: setuptools in /usr/local/lib/python3.10/dist-packages (from rasterio) (67.7.2)\n",
            "Requirement already satisfied: scipy>=1.4.1 in /usr/local/lib/python3.10/dist-packages (from scikit-image) (1.11.3)\n",
            "Requirement already satisfied: networkx>=2.2 in /usr/local/lib/python3.10/dist-packages (from scikit-image) (3.1)\n",
            "Requirement already satisfied: pillow!=7.1.0,!=7.1.1,!=8.3.0,>=6.1.0 in /usr/local/lib/python3.10/dist-packages (from scikit-image) (9.4.0)\n",
            "Requirement already satisfied: imageio>=2.4.1 in /usr/local/lib/python3.10/dist-packages (from scikit-image) (2.31.5)\n",
            "Requirement already satisfied: tifffile>=2019.7.26 in /usr/local/lib/python3.10/dist-packages (from scikit-image) (2023.9.26)\n",
            "Requirement already satisfied: PyWavelets>=1.1.1 in /usr/local/lib/python3.10/dist-packages (from scikit-image) (1.4.1)\n",
            "Requirement already satisfied: packaging>=20.0 in /usr/local/lib/python3.10/dist-packages (from scikit-image) (23.2)\n",
            "Requirement already satisfied: pyparsing>=2.1.6 in /usr/local/lib/python3.10/dist-packages (from snuggs>=1.4.1->rasterio) (3.1.1)\n",
            "Installing collected packages: snuggs, affine, rasterio\n",
            "Successfully installed affine-2.4.0 rasterio-1.3.9 snuggs-1.4.7\n"
          ]
        }
      ],
      "source": [
        "!pip install rasterio scikit-image"
      ]
    },
    {
      "cell_type": "code",
      "execution_count": null,
      "metadata": {
        "id": "LQriT2cMxpkt"
      },
      "outputs": [],
      "source": [
        "import rasterio\n",
        "from rasterio.plot import show\n",
        "from rasterio.features import shapes\n",
        "import numpy as np\n",
        "from skimage.segmentation import slic\n",
        "import matplotlib.pyplot as plt\n",
        "\n",
        "\n"
      ]
    },
    {
      "cell_type": "code",
      "execution_count": null,
      "metadata": {
        "colab": {
          "base_uri": "https://localhost:8080/",
          "height": 1000
        },
        "id": "z99nyBMkx0IL",
        "outputId": "53f2804d-b60d-4b89-afae-aef545d331a5"
      },
      "outputs": [
        {
          "output_type": "display_data",
          "data": {
            "text/plain": [
              "<Figure size 640x480 with 1 Axes>"
            ],
            "image/png": "[encoded data removed]"
          },
          "metadata": {}
        },
        {
          "output_type": "stream",
          "name": "stdout",
          "text": [
            "Crop Type 1: Area = 101.88 hectares\n",
            "Crop Type 2: Area = 101.88 hectares\n",
            "Crop Type 3: Area = 101.88 hectares\n",
            "Crop Type 4: Area = 101.88 hectares\n",
            "Crop Type 5: Area = 101.88 hectares\n",
            "Crop Type 6: Area = 101.87 hectares\n",
            "Crop Type 7: Area = 101.90 hectares\n",
            "Crop Type 8: Area = 101.88 hectares\n",
            "Crop Type 9: Area = 101.85 hectares\n",
            "Crop Type 10: Area = 101.88 hectares\n",
            "Crop Type 11: Area = 101.88 hectares\n",
            "Crop Type 12: Area = 101.88 hectares\n",
            "Crop Type 13: Area = 101.90 hectares\n",
            "Crop Type 14: Area = 101.90 hectares\n",
            "Crop Type 15: Area = 101.88 hectares\n",
            "Crop Type 16: Area = 101.88 hectares\n",
            "Crop Type 17: Area = 101.88 hectares\n",
            "Crop Type 18: Area = 101.87 hectares\n",
            "Crop Type 19: Area = 101.91 hectares\n",
            "Crop Type 20: Area = 101.87 hectares\n",
            "Crop Type 21: Area = 101.89 hectares\n",
            "Crop Type 22: Area = 101.87 hectares\n",
            "Crop Type 23: Area = 101.88 hectares\n",
            "Crop Type 24: Area = 101.88 hectares\n",
            "Crop Type 25: Area = 101.88 hectares\n",
            "Crop Type 26: Area = 101.90 hectares\n",
            "Crop Type 27: Area = 101.87 hectares\n",
            "Crop Type 28: Area = 101.88 hectares\n",
            "Crop Type 29: Area = 101.88 hectares\n",
            "Crop Type 30: Area = 101.88 hectares\n",
            "Crop Type 31: Area = 101.90 hectares\n",
            "Crop Type 32: Area = 101.87 hectares\n",
            "Crop Type 33: Area = 101.88 hectares\n",
            "Crop Type 34: Area = 101.88 hectares\n",
            "Crop Type 35: Area = 101.88 hectares\n",
            "Crop Type 36: Area = 101.90 hectares\n",
            "Crop Type 37: Area = 101.86 hectares\n",
            "Crop Type 38: Area = 101.88 hectares\n",
            "Crop Type 39: Area = 101.88 hectares\n",
            "Crop Type 40: Area = 101.88 hectares\n",
            "Crop Type 41: Area = 101.88 hectares\n",
            "Crop Type 42: Area = 101.88 hectares\n",
            "Crop Type 43: Area = 101.88 hectares\n",
            "Crop Type 44: Area = 101.88 hectares\n",
            "Crop Type 45: Area = 101.88 hectares\n",
            "Crop Type 46: Area = 101.88 hectares\n",
            "Crop Type 47: Area = 101.88 hectares\n",
            "Crop Type 48: Area = 101.87 hectares\n",
            "Crop Type 49: Area = 101.90 hectares\n",
            "Crop Type 50: Area = 101.88 hectares\n",
            "Crop Type 51: Area = 101.88 hectares\n",
            "Crop Type 52: Area = 101.88 hectares\n",
            "Crop Type 53: Area = 101.88 hectares\n",
            "Crop Type 54: Area = 101.88 hectares\n",
            "Crop Type 55: Area = 101.88 hectares\n",
            "Crop Type 56: Area = 101.88 hectares\n",
            "Crop Type 57: Area = 101.88 hectares\n",
            "Crop Type 58: Area = 101.88 hectares\n",
            "Crop Type 59: Area = 101.88 hectares\n",
            "Crop Type 60: Area = 101.90 hectares\n",
            "Crop Type 61: Area = 101.87 hectares\n",
            "Crop Type 62: Area = 101.88 hectares\n",
            "Crop Type 63: Area = 101.88 hectares\n",
            "Crop Type 64: Area = 101.88 hectares\n",
            "Crop Type 65: Area = 101.88 hectares\n",
            "Crop Type 66: Area = 101.88 hectares\n",
            "Crop Type 67: Area = 101.88 hectares\n",
            "Crop Type 68: Area = 101.88 hectares\n",
            "Crop Type 69: Area = 101.88 hectares\n",
            "Crop Type 70: Area = 101.88 hectares\n",
            "Crop Type 71: Area = 101.88 hectares\n",
            "Crop Type 72: Area = 101.88 hectares\n",
            "Crop Type 73: Area = 101.88 hectares\n",
            "Crop Type 74: Area = 101.88 hectares\n",
            "Crop Type 75: Area = 101.88 hectares\n",
            "Crop Type 76: Area = 101.88 hectares\n",
            "Crop Type 77: Area = 101.88 hectares\n",
            "Crop Type 78: Area = 101.87 hectares\n",
            "Crop Type 79: Area = 101.90 hectares\n",
            "Crop Type 80: Area = 101.88 hectares\n",
            "Crop Type 81: Area = 101.88 hectares\n",
            "Crop Type 82: Area = 101.88 hectares\n",
            "Crop Type 83: Area = 101.88 hectares\n",
            "Crop Type 84: Area = 101.88 hectares\n",
            "Crop Type 85: Area = 101.88 hectares\n",
            "Crop Type 86: Area = 101.88 hectares\n",
            "Crop Type 87: Area = 101.88 hectares\n",
            "Crop Type 88: Area = 101.90 hectares\n",
            "Crop Type 89: Area = 101.87 hectares\n",
            "Crop Type 90: Area = 101.88 hectares\n",
            "Crop Type 91: Area = 101.86 hectares\n",
            "Crop Type 92: Area = 101.88 hectares\n",
            "Crop Type 93: Area = 101.88 hectares\n",
            "Crop Type 94: Area = 101.90 hectares\n",
            "Crop Type 95: Area = 101.88 hectares\n",
            "Crop Type 96: Area = 101.85 hectares\n",
            "Crop Type 97: Area = 101.81 hectares\n",
            "Crop Type 98: Area = 101.77 hectares\n",
            "Crop Type 99: Area = 101.68 hectares\n",
            "Crop Type 100: Area = 101.65 hectares\n"
          ]
        }
      ],
      "source": [
        "def crop_distribution_monitoring(image_path):\n",
        "    with rasterio.open(image_path) as src:   # Read the GeoTIFF image\n",
        "        image = src.read()\n",
        "\n",
        "    # Convert the image from 3D to 2D array (height, width, bands) -> (bands, height*width)\n",
        "    image_reshaped = image.reshape(image.shape[0], -1)\n",
        "\n",
        "    # Perform image segmentation using SLIC(Simple Linear Iterative Clustering)\n",
        "    # Adjust the n_segments parameter based on the expected number of crops in the image\n",
        "    segments = slic(image_reshaped, n_segments=100, compactness=10, sigma=1)\n",
        "\n",
        "    # Calculate the area of each segment (crop region) in pixels\n",
        "    segment_areas = [np.sum(segments == segment_id) for segment_id in np.unique(segments)]\n",
        "\n",
        "    # Get unique crop types present in the image\n",
        "    unique_crop_types = np.unique(segments)\n",
        "\n",
        "    # Calculate the area of each crop type in hectares(assuming pixel size in meters)\n",
        "    pixel_size_meters = src.res[0]  # Assuming square pixels (x and y resolution are the same)\n",
        "    pixel_size_hectares = pixel_size_meters * 0.0001  # Convert pixel size to hectares\n",
        "    crop_type_areas = [area * pixel_size_hectares for area in segment_areas]\n",
        "\n",
        "    # Display the segmented image\n",
        "    show(segments, cmap='tab20', title='Crop Distribution')\n",
        "\n",
        "    # Print crop type and its corresponding area in hectares\n",
        "    for i, crop_type in enumerate(unique_crop_types):\n",
        "        print(f\"Crop Type {crop_type}: Area = {crop_type_areas[i]:.2f} hectares\")\n",
        "\n",
        "\n",
        "\n",
        "# Call the function with the image path\n",
        "image_path = \"/content/Delhi.tiff\"\n",
        "crop_distribution_monitoring(image_path)\n",
        "\n"
      ]
    },
    {
      "cell_type": "code",
      "execution_count": null,
      "metadata": {
        "id": "ARydErWMyA0i"
      },
      "outputs": [],
      "source": []
    }
  ],
  "metadata": {
    "colab": {
      "provenance": [],
      "authorship_tag": "ABX9TyMUJ0ekzCXhmbUZ2ElT/oFY",
      "include_colab_link": true
    },
    "kernelspec": {
      "display_name": "Python 3",
      "name": "python3"
    },
    "language_info": {
      "name": "python"
    }
  },
  "nbformat": 4,
  "nbformat_minor": 0
}